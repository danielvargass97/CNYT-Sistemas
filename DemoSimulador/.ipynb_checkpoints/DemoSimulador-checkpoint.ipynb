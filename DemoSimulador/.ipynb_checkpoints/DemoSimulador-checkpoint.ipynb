{
 "cells": [
  {
   "cell_type": "markdown",
   "metadata": {},
   "source": [
    "<font face=\"Comic Sans MS,arial,verdana\">\n",
    "<font size=8>\n",
    "<center>DEMO DE SIMULADORES DE SISTEMAS <br/>\n",
    "<br/>\n",
    "    DINAMICOS<br/>\n",
    "<br/>\n",
    "  \n",
    "\n",
    "\n",
    "</font>\n",
    "</font>"
   ]
  },
  {
   "cell_type": "markdown",
   "metadata": {},
   "source": [
    "<font face=\"Comic Sans MS,arial,verdana\">\n",
    "<font size=5>\n",
    "Sistema clásico:<br/>\n",
    "<br/>\n",
    "</font>\n",
    "</font>"
   ]
  },
  {
   "cell_type": "markdown",
   "metadata": {},
   "source": [
    "<font face=\"Comic Sans MS,arial,verdana\">\n",
    "<font size=4>\n",
    "<center>Esta es la ilustracion de nuestro sistema:<br/>\n",
    "    \n",
    "<br/>\n",
    "<img src=\"Grafo.png\"\n",
    "style=\"float:center\"\n",
    "width=\"40%\"/>\n",
    "\n",
    "</font>\n",
    "</font>"
   ]
  },
  {
   "cell_type": "markdown",
   "metadata": {},
   "source": [
    "<font face=\"Comic Sans MS,arial,verdana\">\n",
    "<font size=4>\n",
    "<center>Esta es la matriz de adyacencia asociada al sistema:<br/>\n",
    "    \n",
    "<br/>\n",
    "$$ M = \n",
    "\\begin{bmatrix}\n",
    "0 & 0 & 0 & 0 & 0 & 0\\\\\n",
    "0 & 0 & 0 & 0 & 0 & 0\\\\\n",
    "0 & 1 & 0 & 0 & 0 & 1\\\\\n",
    "0 & 0 & 0 & 1 & 0 & 0\\\\\n",
    "0 & 0 & 1 & 0 & 0 & 0\\\\\n",
    "1 & 0 & 0 & 0 & 1 & 0\\end{bmatrix}$$\n",
    "<br/>\n",
    "\n",
    "<center>Vector estado inicial<br/>\n",
    "    \n",
    "<br/>\n",
    "$$ \\text{Punto 2} =\n",
    "\\begin{bmatrix}\n",
    "0\\\\\n",
    "0\\\\\n",
    "1\\\\\n",
    "0\\\\\n",
    "0\\\\\n",
    "0\\end{bmatrix}$$\n",
    "</font>\n",
    "</font>"
   ]
  },
  {
   "cell_type": "code",
   "execution_count": null,
   "metadata": {},
   "outputs": [],
   "source": [
    "import Numeros_complejos as NC\n",
    "import Operaciones_para_vectores_y_matrices as OVM"
   ]
  },
  {
   "cell_type": "markdown",
   "metadata": {},
   "source": [
    "<font face=\"Comic Sans MS,arial,verdana\">\n",
    "<font size=5>\n",
    "Sistema clásico-Juego de las canicas<br/>\n",
    "<br/>\n",
    "</font>\n",
    "</font>"
   ]
  },
  {
   "cell_type": "markdown",
   "metadata": {},
   "source": [
    "<font face=\"Comic Sans MS,arial,verdana\">\n",
    "<font size=4>\n",
    "En nuestro sistema clásico (juego de las canicas) tenemos un total de 29 canincas repartidas de la siguiente forma: <br/>\n",
    "    <ul>\n",
    "        <li type=\"square\">Ocho (8) canicas en la posicion 0</li>\n",
    "        <li type=\"square\">Dos (2) canicas en la posicion 1</li>\n",
    "        <li type=\"square\">Cero (0) canicas en la posicion 2</li>\n",
    "        <li type=\"square\">Cuatro (4) canicas en la posicion 3</li>\n",
    "        <li type=\"square\">Cinco (5) canicas en la posicion 4</li>\n",
    "        <li type=\"square\">Diez (10) canicas en la posicion 5</li>\n",
    "    </ul>    \n",
    "<br/>\n",
    "Este vector nos representara el numero de canincas que hay en cada posicion pasados 0 clicks de tiempo y nos ayudara a evidenciar donde se reuniran estas canicas pasados n clicks de tiempo<br/>\n",
    "<br/>\n",
    "$$ \\text{Vector canicas}=\n",
    "\\begin{bmatrix}\n",
    "8\\\\\n",
    "2\\\\\n",
    "0\\\\\n",
    "4\\\\\n",
    "5\\\\\n",
    "10\\end{bmatrix}$$\n",
    "</font>\n",
    "</font>"
   ]
  },
  {
   "cell_type": "markdown",
   "metadata": {},
   "source": [
    "<font face=\"Comic Sans MS,arial,verdana\">\n",
    "<font size=5>\n",
    "Sistema probabilistico<br/>\n",
    "<br/>\n",
    "</font>\n",
    "</font>"
   ]
  },
  {
   "cell_type": "code",
   "execution_count": null,
   "metadata": {},
   "outputs": [],
   "source": []
  }
 ],
 "metadata": {
  "kernelspec": {
   "display_name": "Python 3",
   "language": "python",
   "name": "python3"
  },
  "language_info": {
   "codemirror_mode": {
    "name": "ipython",
    "version": 3
   },
   "file_extension": ".py",
   "mimetype": "text/x-python",
   "name": "python",
   "nbconvert_exporter": "python",
   "pygments_lexer": "ipython3",
   "version": "3.7.4"
  }
 },
 "nbformat": 4,
 "nbformat_minor": 2
}
