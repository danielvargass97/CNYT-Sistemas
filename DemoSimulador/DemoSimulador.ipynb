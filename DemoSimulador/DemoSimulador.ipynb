{
 "cells": [
  {
   "cell_type": "markdown",
   "metadata": {},
   "source": [
    "<font face=\"Comic Sans MS,arial,verdana\">\n",
    "<font size=8>\n",
    "<center>DEMO DE SIMULADORES DE SISTEMAS <br/>\n",
    "<br/>\n",
    "    DINAMICOS<br/>\n",
    "<br/>\n",
    "  \n",
    "\n",
    "\n",
    "</font>\n",
    "</font>"
   ]
  },
  {
   "cell_type": "code",
   "execution_count": 2,
   "metadata": {},
   "outputs": [],
   "source": [
    "import Numeros_complejos as NC\n",
    "import Operaciones_para_vectores_y_matrices as OVM"
   ]
  },
  {
   "cell_type": "markdown",
   "metadata": {},
   "source": [
    "<font face=\"Comic Sans MS,arial,verdana\">\n",
    "<font size=5>\n",
    "Sistema clásico:<br/>\n",
    "<br/>\n",
    "</font>\n",
    "</font>"
   ]
  },
  {
   "cell_type": "markdown",
   "metadata": {},
   "source": [
    "<font face=\"Comic Sans MS,arial,verdana\">\n",
    "<font size=4>\n",
    "<center>Esta es la ilustracion de nuestro sistema:<br/>\n",
    "    \n",
    "<br/>\n",
    "<img src=\"Grafo.png\"\n",
    "style=\"float:center\"\n",
    "width=\"40%\"/>\n",
    "\n",
    "</font>\n",
    "</font>"
   ]
  },
  {
   "cell_type": "markdown",
   "metadata": {},
   "source": [
    "<font face=\"Comic Sans MS,arial,verdana\">\n",
    "<font size=5>\n",
    "<center>Esta es la matriz de adyacencia asociada al sistema:<br/>\n",
    "<table width=\"800\">\n",
    "    <tr>\n",
    "        <td>\n",
    "            <font size=3.5>\n",
    "            <br/>\n",
    "            $$\n",
    "            M \\begin{bmatrix}\n",
    "            0 & 0 & 0 & 0 & 0 & 0\\\\\n",
    "            0 & 0 & 0 & 0 & 0 & 0\\\\\n",
    "            0 & 1 & 0 & 0 & 0 & 1\\\\\n",
    "            0 & 0 & 0 & 1 & 0 & 0\\\\\n",
    "            0 & 0 & 1 & 0 & 0 & 0\\\\\n",
    "            1 & 0 & 0 & 0 & 1 & 0\\end{bmatrix}$$\n",
    "            <br/>\n",
    "        <td/>\n",
    "        <td>\n",
    "            <font size=4>\n",
    "            <center>Vector estado inicial<br/>\n",
    "            <br/>\n",
    "            $$ Punto 2 =\n",
    "            \\begin{bmatrix}\n",
    "            0\\\\\n",
    "            0\\\\\n",
    "            1\\\\\n",
    "            0\\\\\n",
    "            0\\\\\n",
    "            0\\end{bmatrix}$$\n",
    "        <td/>\n",
    "    <tr/>\n",
    "<table/>\n",
    "\n",
    "</font>\n",
    "</font>"
   ]
  },
  {
   "cell_type": "code",
   "execution_count": 6,
   "metadata": {},
   "outputs": [],
   "source": [
    "M = [[[0,0],[0,0],[0,0],[0,0],[0,0],[0,0]],\n",
    "     [[0,0],[0,0],[0,0],[0,0],[0,0],[0,0]],\n",
    "     [[0,0],[1,0],[0,0],[0,0],[0,0],[1,0]],\n",
    "     [[0,0],[0,0],[0,0],[1,0],[0,0],[0,0]],\n",
    "     [[0,0],[0,0],[1,0],[0,0],[0,0],[0,0]],\n",
    "     [[1,0],[0,0],[0,0],[0,0],[1,0],[0,0]]\n",
    "    ]\n",
    "\n",
    "v = [[0,0],\n",
    "     [0,0],\n",
    "     [1,0],\n",
    "     [0,0],\n",
    "     [0,0],\n",
    "     [0,0],\n",
    "    ]\n"
   ]
  },
  {
   "cell_type": "code",
   "execution_count": 9,
   "metadata": {},
   "outputs": [
    {
     "data": {
      "text/plain": [
       "[[[0, 0]], [[0, 0]], [[0, 0]], [[0, 0]], [[1, 0]], [[0, 0]]]"
      ]
     },
     "execution_count": 9,
     "metadata": {},
     "output_type": "execute_result"
    }
   ],
   "source": [
    "clicks = 0\n",
    "\n",
    "M = OVM.potenciaMatricesComplejas(M, clicks)\n",
    "\n",
    "OVM.accionMatrizSobreVectorComplejo(M, v)"
   ]
  },
  {
   "cell_type": "markdown",
   "metadata": {},
   "source": [
    "<font face=\"Comic Sans MS,arial,verdana\">\n",
    "<font size=5>\n",
    "Sistema clásico-Juego de las canicas<br/>\n",
    "<br/>\n",
    "</font>\n",
    "</font>"
   ]
  },
  {
   "cell_type": "markdown",
   "metadata": {},
   "source": [
    "<font face=\"Comic Sans MS,arial,verdana\">\n",
    "<font size=4>\n",
    "En nuestro sistema clásico (juego de las canicas) tenemos un total de 29 canincas repartidas de la siguiente forma: <br/>\n",
    "    <ul>\n",
    "        <li type=\"square\">Ocho (8) canicas en la posicion 0</li>\n",
    "        <li type=\"square\">Dos (2) canicas en la posicion 1</li>\n",
    "        <li type=\"square\">Cero (0) canicas en la posicion 2</li>\n",
    "        <li type=\"square\">Cuatro (4) canicas en la posicion 3</li>\n",
    "        <li type=\"square\">Cinco (5) canicas en la posicion 4</li>\n",
    "        <li type=\"square\">Diez (10) canicas en la posicion 5</li>\n",
    "    </ul>    \n",
    "<br/>\n",
    "Este vector nos representara el numero de canincas que hay en cada posicion pasados 0 clicks de tiempo y nos ayudara a evidenciar donde se reuniran estas canicas pasados n clicks de tiempo<br/>\n",
    "<br/>\n",
    "<center> Vector canicas\n",
    "$$ \n",
    "\\begin{bmatrix}\n",
    "8\\\\\n",
    "2\\\\\n",
    "0\\\\\n",
    "4\\\\\n",
    "5\\\\\n",
    "10\\end{bmatrix}$$\n",
    "</font>\n",
    "</font>"
   ]
  },
  {
   "cell_type": "markdown",
   "metadata": {},
   "source": [
    "<font face=\"Comic Sans MS,arial,verdana\">\n",
    "<font size=5>\n",
    "Sistema probabilistico<br/>\n",
    "<br/>\n",
    "</font>\n",
    "</font>"
   ]
  },
  {
   "cell_type": "markdown",
   "metadata": {},
   "source": [
    "\n",
    "<font face=\"Comic Sans MS,arial,verdana\">\n",
    "<font size=5>\n",
    "<center>Ensamble de sistemas probabilísticos<br/>\n",
    "    <table width=\"800\">\n",
    "        <tr>\n",
    "            <td>\n",
    "                <font size=4>\n",
    "                <br/>\n",
    "                <center> Personaje<br/>\n",
    "                <br/>\n",
    "                $$\\begin{bmatrix} \n",
    "                0 & 0.61 & 0.39\\\\ \n",
    "                0.5 & 0.09 & 0.41\\\\\n",
    "                0.5 & 0.3 & 0.2\\end{bmatrix}$$\n",
    "                <br/>\n",
    "            </td>\n",
    "            <td>\n",
    "                <font size=4>\n",
    "                <center>Esta es la ilustracion de nuestro sistema de personajes:<br/>\n",
    "                <br/>\n",
    "                <img src=\"sistemaPersonaje.png\"\n",
    "                style=\"float:center\"\n",
    "                width=\"80%\"/>\n",
    "            </td>\n",
    "        </tr>\n",
    "    </table>\n",
    "    <table width=\"800\">\n",
    "        <tr>\n",
    "            <td>\n",
    "                <font size=4>\n",
    "                <br/>\n",
    "                <center> Pueblo<br/>\n",
    "                <br/>\n",
    "                $$\\begin{bmatrix}\n",
    "                \\cfrac{7}{34} & \\cfrac{14}{34} & \\cfrac{4}{34} & \\cfrac{9}{34}\\\\\n",
    "                \\cfrac{15}{34} & \\cfrac{6}{34} & \\cfrac{12}{34} & \\cfrac{1}{34}\\\\\n",
    "                \\cfrac{2}{34} & \\cfrac{3}{34} & \\cfrac{13}{34} & \\cfrac{16}{34}\\\\\n",
    "                \\cfrac{10}{34} & \\cfrac{11}{34} & \\cfrac{5}{34} & \\cfrac{8}{34}\\end{bmatrix}$$\n",
    "                <br/>\n",
    "            </td>\n",
    "            <td>\n",
    "                <font size=4>\n",
    "                <center>Esta es la ilustracion de nuestro sistema de lugares:<br/>\n",
    "                <br/>\n",
    "                <img src=\"SistemaLugar.png\"\n",
    "                style=\"float:center\"\n",
    "                width=\"80%\"/>\n",
    "            </td>\n",
    "        </tr>\n",
    "    </table>\n",
    "\n",
    "\n",
    "</div>\n",
    "</font>\n",
    "</font>"
   ]
  },
  {
   "cell_type": "code",
   "execution_count": 6,
   "metadata": {},
   "outputs": [],
   "source": [
    "personaje = [[[0,0],[0.61,0],[0.9,0]],\n",
    "             [[0.5,0],[0.09,0],[0.41,0]],\n",
    "             [[0.5,0],[0.3,0],[0.2,0]]\n",
    "            ]\n",
    "\n",
    "posicion = [[[7/34,0],[14/34,0],[4/34,0],[9/34,0]],\n",
    "            [[15/34,0],[6/34,0],[12/34,0],[1/34,0]],\n",
    "            [[2/34,0],[3/34,0],[13/34,0],[16/34,0]],\n",
    "            [[10/34,0],[11/34,0],[5/34,0],[8/34,0]]\n",
    "           ]\n"
   ]
  },
  {
   "cell_type": "markdown",
   "metadata": {},
   "source": [
    "<font face=\"Comic Sans MS,arial,verdana\">\n",
    "<font size=5>\n",
    "Sistemas cuánticos<br/>\n",
    "<br/>\n",
    "</font>\n",
    "</font>"
   ]
  },
  {
   "cell_type": "markdown",
   "metadata": {},
   "source": [
    "<font face=\"Comic Sans MS,arial,verdana\">\n",
    "<font size=5>\n",
    "<Center>Representación sistema cuántico:<br\\>\n",
    "    <table width=\"1000\">\n",
    "        <tr>\n",
    "            <td>\n",
    "                <font size=4>\n",
    "                <center>Esta es la ilustracion de nuestro sistema cuántico:<br/>\n",
    "                <br/>\n",
    "                <img src=\"GrafoSistemaCuantico.png\"\n",
    "                style=\"float:center\"\n",
    "                width=\"80%\"/>\n",
    "            </td>\n",
    "            <td>\n",
    "                <font size=4>\n",
    "                <br/>\n",
    "                <center>Esta es la matriz asociada a nuestro sistema<br/>\n",
    "                <br/>\n",
    "                $$ M = \n",
    "                \\begin{bmatrix} \n",
    "                0 & \\cfrac{1}{\\sqrt{2}} & \\cfrac{1}{\\sqrt{2}} & 0\\\\ \n",
    "                \\cfrac{1}{\\sqrt{2}} & 0 & 0 & \\cfrac{-1}{\\sqrt{2}}\\\\\n",
    "                \\cfrac{1}{\\sqrt{2}} & 0 & 0 & \\cfrac{1}{\\sqrt{2}}\\\\\n",
    "                0 & \\cfrac{-1}{\\sqrt{2}} & \\cfrac{1}{\\sqrt{2}} & 0\\end{bmatrix}$$\n",
    "                <br/>\n",
    "            </td>       \n",
    "        </tr>\n",
    "    </table>\n",
    "<br/>\n",
    "<center>Vector estado inicial:<br/>\n",
    "<br/>\n",
    "$$ V =\n",
    "\\begin{bmatrix}\n",
    "\\cfrac{-1+i}{\\sqrt{8}}\\\\ \n",
    "\\cfrac{1+i}{\\sqrt{8}}\\\\\n",
    "0\\\\\n",
    "\\cfrac{i}{\\sqrt{2}}\\end{bmatrix}$$\n",
    "<br/>\n",
    "</font>\n",
    "</font>"
   ]
  },
  {
   "cell_type": "code",
   "execution_count": 10,
   "metadata": {},
   "outputs": [],
   "source": [
    "import math\n",
    "M = [[[0,0],[1/math.sqrt(2),0],[1/math.sqrt(2),0],[0,0]],\n",
    "    [[1/math.sqrt(2),0],[0,0],[0,0],[-1/math.sqrt(2),0]],\n",
    "    [[1/math.sqrt(2),0],[0,0],[0,0],[1/math.sqrt(2),0]],\n",
    "    [[0,0],[-1/math.sqrt(2),0],[1/math.sqrt(2),0],[0,0]]\n",
    "    ]\n",
    "\n",
    "V = [[[7/34,0],[14/34,0],[4/34,0],[9/34,0]],\n",
    "    [[15/34,0],[6/34,0],[12/34,0],[1/34,0]],\n",
    "    [[2/34,0],[3/34,0],[13/34,0],[16/34,0]],\n",
    "    [[10/34,0],[11/34,0],[5/34,0],[8/34,0]]\n",
    "    ]"
   ]
  },
  {
   "cell_type": "code",
   "execution_count": null,
   "metadata": {},
   "outputs": [],
   "source": []
  }
 ],
 "metadata": {
  "kernelspec": {
   "display_name": "Python 3",
   "language": "python",
   "name": "python3"
  },
  "language_info": {
   "codemirror_mode": {
    "name": "ipython",
    "version": 3
   },
   "file_extension": ".py",
   "mimetype": "text/x-python",
   "name": "python",
   "nbconvert_exporter": "python",
   "pygments_lexer": "ipython3",
   "version": "3.7.4"
  }
 },
 "nbformat": 4,
 "nbformat_minor": 2
}
