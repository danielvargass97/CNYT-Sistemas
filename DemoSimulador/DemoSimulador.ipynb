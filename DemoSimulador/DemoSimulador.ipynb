{
 "cells": [
  {
   "cell_type": "markdown",
   "metadata": {},
   "source": [
    "<font face=\"Comic Sans MS,arial,verdana\">\n",
    "<font size=8>\n",
    "<center>DEMO DE SIMULADORES DE SISTEMAS <br/>\n",
    "<br/>\n",
    "    DINAMICOS<br/>\n",
    "<br/>\n",
    "  \n",
    "\n",
    "\n",
    "</font>\n",
    "</font>"
   ]
  },
  {
   "cell_type": "markdown",
   "metadata": {},
   "source": [
    "<font face=\"Comic Sans MS,arial,verdana\">\n",
    "<font size=5>\n",
    "Sistema clásico:<br/>\n",
    "<br/>\n",
    "</font>\n",
    "</font>"
   ]
  },
  {
   "cell_type": "markdown",
   "metadata": {},
   "source": [
    "<font face=\"Comic Sans MS,arial,verdana\">\n",
    "<font size=4>\n",
    "<center>Esta es la ilustracion de nuestro sistema:<br/>\n",
    "    \n",
    "<br/>\n",
    "<img src=\"Grafo.png\"\n",
    "style=\"float:center\"\n",
    "width=\"40%\"/>\n",
    "\n",
    "</font>\n",
    "</font>"
   ]
  },
  {
   "cell_type": "markdown",
   "metadata": {},
   "source": [
    "<font face=\"Comic Sans MS,arial,verdana\">\n",
    "<font size=5>\n",
    "<center>Esta es la matriz de adyacencia asociada al sistema:<br/>\n",
    "<table width=\"800\">\n",
    "    <tr>\n",
    "        <td>\n",
    "            <font size=3.5>\n",
    "            <br/>\n",
    "            $$\n",
    "            M \\begin{bmatrix}\n",
    "            0 & 0 & 0 & 0 & 0 & 0\\\\\n",
    "            0 & 0 & 0 & 0 & 0 & 0\\\\\n",
    "            0 & 1 & 0 & 0 & 0 & 1\\\\\n",
    "            0 & 0 & 0 & 1 & 0 & 0\\\\\n",
    "            0 & 0 & 1 & 0 & 0 & 0\\\\\n",
    "            1 & 0 & 0 & 0 & 1 & 0\\end{bmatrix}$$\n",
    "            <br/>\n",
    "        <td/>\n",
    "        <td>\n",
    "            <font size=4>\n",
    "            <center>Vector estado inicial<br/>\n",
    "            <br/>\n",
    "            <center>Punto 2<br/>\n",
    "            $$\n",
    "            \\begin{bmatrix}\n",
    "            0\\\\\n",
    "            0\\\\\n",
    "            1\\\\\n",
    "            0\\\\\n",
    "            0\\\\\n",
    "            0\\end{bmatrix}$$\n",
    "        <td/>\n",
    "    <tr/>\n",
    "<table/>\n",
    "\n",
    "</font>\n",
    "</font>"
   ]
  },
  {
   "cell_type": "code",
   "execution_count": 1,
   "metadata": {},
   "outputs": [],
   "source": [
    "import Numeros_complejos as NC\n",
    "import Operaciones_para_vectores_y_matrices as OVM"
   ]
  },
  {
   "cell_type": "markdown",
   "metadata": {},
   "source": [
    "<font face=\"Comic Sans MS,arial,verdana\">\n",
    "<font size=5>\n",
    "Sistema clásico-Juego de las canicas<br/>\n",
    "<br/>\n",
    "</font>\n",
    "</font>"
   ]
  },
  {
   "cell_type": "markdown",
   "metadata": {},
   "source": [
    "<font face=\"Comic Sans MS,arial,verdana\">\n",
    "<font size=4>\n",
    "En nuestro sistema clásico (juego de las canicas) tenemos un total de 29 canincas repartidas de la siguiente forma: <br/>\n",
    "    <ul>\n",
    "        <li type=\"square\">Ocho (8) canicas en la posicion 0</li>\n",
    "        <li type=\"square\">Dos (2) canicas en la posicion 1</li>\n",
    "        <li type=\"square\">Cero (0) canicas en la posicion 2</li>\n",
    "        <li type=\"square\">Cuatro (4) canicas en la posicion 3</li>\n",
    "        <li type=\"square\">Cinco (5) canicas en la posicion 4</li>\n",
    "        <li type=\"square\">Diez (10) canicas en la posicion 5</li>\n",
    "    </ul>    \n",
    "<br/>\n",
    "Este vector nos representara el numero de canincas que hay en cada posicion pasados 0 clicks de tiempo y nos ayudara a evidenciar donde se reuniran estas canicas pasados n clicks de tiempo<br/>\n",
    "<br/>\n",
    "<center> Vector canicas\n",
    "$$ \n",
    "\\begin{bmatrix}\n",
    "8\\\\\n",
    "2\\\\\n",
    "0\\\\\n",
    "4\\\\\n",
    "5\\\\\n",
    "10\\end{bmatrix}$$\n",
    "</font>\n",
    "</font>"
   ]
  },
  {
   "cell_type": "markdown",
   "metadata": {},
   "source": [
    "<font face=\"Comic Sans MS,arial,verdana\">\n",
    "<font size=5>\n",
    "Sistema probabilistico<br/>\n",
    "<br/>\n",
    "</font>\n",
    "</font>"
   ]
  },
  {
   "cell_type": "markdown",
   "metadata": {},
   "source": [
    "\n",
    "<font face=\"Comic Sans MS,arial,verdana\">\n",
    "<font size=5>\n",
    "<center>Ensamble de sistemas probabilísticos<br/>\n",
    "    <table width=\"800\">\n",
    "        <tr>\n",
    "            <td>\n",
    "                <font size=4>\n",
    "                <br/>\n",
    "                <center> Personaje<br/>\n",
    "                <br/>\n",
    "                $$\\begin{bmatrix} \n",
    "                0 & 0.61 & 0.39\\\\ \n",
    "                0.5 & 0.09 & 0.41\\\\\n",
    "                0.5 & 0.3 & 0.2\\end{bmatrix}$$\n",
    "                <br/>\n",
    "            </td>\n",
    "            <td>\n",
    "                <font size=4>\n",
    "                <center>Esta es la ilustracion de nuestro sistema de personajes:<br/>\n",
    "                <br/>\n",
    "                <img src=\"sistemaPersonaje.png\"\n",
    "                style=\"float:center\"\n",
    "                width=\"80%\"/>\n",
    "            </td>\n",
    "        </tr>\n",
    "    </table>\n",
    "    <table width=\"800\">\n",
    "        <tr>\n",
    "            <td>\n",
    "                <font size=4>\n",
    "                <br/>\n",
    "                <center> Posicion<br/>\n",
    "                <br/>\n",
    "                $$\\begin{bmatrix}\n",
    "                \\cfrac{7}{34} & \\cfrac{14}{34} & \\cfrac{4}{34} & \\cfrac{9}{34}\\\\\n",
    "                \\cfrac{15}{34} & \\cfrac{6}{34} & \\cfrac{12}{34} & \\cfrac{1}{34}\\\\\n",
    "                \\cfrac{2}{34} & \\cfrac{3}{34} & \\cfrac{13}{34} & \\cfrac{16}{34}\\\\\n",
    "                \\cfrac{10}{34} & \\cfrac{11}{34} & \\cfrac{5}{34} & \\cfrac{8}{34}\\end{bmatrix}$$\n",
    "                <br/>\n",
    "            </td>\n",
    "            <td>\n",
    "                <font size=4>\n",
    "                <center>Esta es la ilustracion de nuestro sistema de lugares:<br/>\n",
    "                <br/>\n",
    "                <img src=\"SistemaLugar.png\"\n",
    "                style=\"float:center\"\n",
    "                width=\"80%\"/>\n",
    "            </td>\n",
    "        </tr>\n",
    "    </table>\n",
    "\n",
    "\n",
    "</div>\n",
    "</font>\n",
    "</font>"
   ]
  },
  {
   "cell_type": "code",
   "execution_count": 5,
   "metadata": {},
   "outputs": [
    {
     "name": "stdout",
     "output_type": "stream",
     "text": [
      "[[[0.0, 0.0], [0.0, 0.0], [0.0, 0.0], [0.0, 0.0], [0.12558823529411764, 0.0], [0.2511764705882353, 0.0], [0.07176470588235294, 0.0], [0.16147058823529412, 0.0], [0.18529411764705883, 0.0], [0.37058823529411766, 0.0], [0.10588235294117647, 0.0], [0.23823529411764707, 0.0]], [[0.0, 0.0], [0.0, 0.0], [0.0, 0.0], [0.0, 0.0], [0.2691176470588235, 0.0], [0.10764705882352942, 0.0], [0.21529411764705883, 0.0], [0.017941176470588235, 0.0], [0.39705882352941174, 0.0], [0.15882352941176472, 0.0], [0.31764705882352945, 0.0], [0.026470588235294117, 0.0]], [[0.0, 0.0], [0.0, 0.0], [0.0, 0.0], [0.0, 0.0], [0.03588235294117647, 0.0], [0.05382352941176471, 0.0], [0.23323529411764704, 0.0], [0.28705882352941176, 0.0], [0.052941176470588235, 0.0], [0.07941176470588236, 0.0], [0.34411764705882353, 0.0], [0.4235294117647059, 0.0]], [[0.0, 0.0], [0.0, 0.0], [0.0, 0.0], [0.0, 0.0], [0.17941176470588235, 0.0], [0.1973529411764706, 0.0], [0.08970588235294118, 0.0], [0.14352941176470588, 0.0], [0.2647058823529412, 0.0], [0.2911764705882353, 0.0], [0.1323529411764706, 0.0], [0.21176470588235294, 0.0]], [[0.10294117647058823, 0.0], [0.20588235294117646, 0.0], [0.058823529411764705, 0.0], [0.1323529411764706, 0.0], [0.01852941176470588, 0.0], [0.03705882352941176, 0.0], [0.010588235294117647, 0.0], [0.023823529411764705, 0.0], [0.08441176470588234, 0.0], [0.16882352941176468, 0.0], [0.04823529411764706, 0.0], [0.10852941176470587, 0.0]], [[0.22058823529411764, 0.0], [0.08823529411764706, 0.0], [0.17647058823529413, 0.0], [0.014705882352941176, 0.0], [0.039705882352941174, 0.0], [0.015882352941176472, 0.0], [0.031764705882352945, 0.0], [0.0026470588235294116, 0.0], [0.18088235294117647, 0.0], [0.07235294117647059, 0.0], [0.14470588235294118, 0.0], [0.012058823529411764, 0.0]], [[0.029411764705882353, 0.0], [0.04411764705882353, 0.0], [0.19117647058823528, 0.0], [0.23529411764705882, 0.0], [0.005294117647058823, 0.0], [0.007941176470588236, 0.0], [0.03441176470588235, 0.0], [0.042352941176470586, 0.0], [0.02411764705882353, 0.0], [0.036176470588235296, 0.0], [0.15676470588235292, 0.0], [0.19294117647058823, 0.0]], [[0.14705882352941177, 0.0], [0.16176470588235295, 0.0], [0.07352941176470588, 0.0], [0.11764705882352941, 0.0], [0.026470588235294117, 0.0], [0.02911764705882353, 0.0], [0.013235294117647059, 0.0], [0.021176470588235293, 0.0], [0.12058823529411765, 0.0], [0.13264705882352942, 0.0], [0.060294117647058824, 0.0], [0.09647058823529411, 0.0]], [[0.10294117647058823, 0.0], [0.20588235294117646, 0.0], [0.058823529411764705, 0.0], [0.1323529411764706, 0.0], [0.06176470588235294, 0.0], [0.12352941176470587, 0.0], [0.03529411764705882, 0.0], [0.07941176470588235, 0.0], [0.041176470588235294, 0.0], [0.08235294117647059, 0.0], [0.023529411764705882, 0.0], [0.05294117647058824, 0.0]], [[0.22058823529411764, 0.0], [0.08823529411764706, 0.0], [0.17647058823529413, 0.0], [0.014705882352941176, 0.0], [0.1323529411764706, 0.0], [0.052941176470588235, 0.0], [0.10588235294117647, 0.0], [0.008823529411764706, 0.0], [0.08823529411764706, 0.0], [0.03529411764705883, 0.0], [0.07058823529411766, 0.0], [0.0058823529411764705, 0.0]], [[0.029411764705882353, 0.0], [0.04411764705882353, 0.0], [0.19117647058823528, 0.0], [0.23529411764705882, 0.0], [0.01764705882352941, 0.0], [0.026470588235294117, 0.0], [0.11470588235294116, 0.0], [0.1411764705882353, 0.0], [0.011764705882352941, 0.0], [0.017647058823529415, 0.0], [0.07647058823529412, 0.0], [0.09411764705882353, 0.0]], [[0.14705882352941177, 0.0], [0.16176470588235295, 0.0], [0.07352941176470588, 0.0], [0.11764705882352941, 0.0], [0.08823529411764706, 0.0], [0.09705882352941177, 0.0], [0.04411764705882353, 0.0], [0.07058823529411765, 0.0], [0.05882352941176471, 0.0], [0.06470588235294118, 0.0], [0.029411764705882356, 0.0], [0.047058823529411764, 0.0]]]\n"
     ]
    }
   ],
   "source": [
    "personaje = [[[0,0],[0.61,0],[0.9,0]],\n",
    "             [[0.5,0],[0.09,0],[0.41,0]],\n",
    "             [[0.5,0],[0.3,0],[0.2,0]]\n",
    "            ]\n",
    "\n",
    "posicion = [[[7/34,0],[14/34,0],[4/34,0],[9/34,0]],\n",
    "            [[15/34,0],[6/34,0],[12/34,0],[1/34,0]],\n",
    "            [[2/34,0],[3/34,0],[13/34,0],[16/34,0]],\n",
    "            [[10/34,0],[11/34,0],[5/34,0],[8/34,0]]\n",
    "           ]\n",
    "print(OVM.productoTensorial(personaje, posicion))"
   ]
  },
  {
   "cell_type": "code",
   "execution_count": null,
   "metadata": {},
   "outputs": [],
   "source": []
  }
 ],
 "metadata": {
  "kernelspec": {
   "display_name": "Python 3",
   "language": "python",
   "name": "python3"
  },
  "language_info": {
   "codemirror_mode": {
    "name": "ipython",
    "version": 3
   },
   "file_extension": ".py",
   "mimetype": "text/x-python",
   "name": "python",
   "nbconvert_exporter": "python",
   "pygments_lexer": "ipython3",
   "version": "3.7.4"
  }
 },
 "nbformat": 4,
 "nbformat_minor": 2
}
